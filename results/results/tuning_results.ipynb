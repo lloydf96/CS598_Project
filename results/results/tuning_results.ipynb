{
 "cells": [
  {
   "cell_type": "markdown",
   "metadata": {},
   "source": [
    "### Compile tuning results\n",
    "\n"
   ]
  },
  {
   "cell_type": "code",
   "execution_count": 1,
   "metadata": {},
   "outputs": [],
   "source": [
    "import pandas as pd\n",
    "import json"
   ]
  },
  {
   "cell_type": "code",
   "execution_count": null,
   "metadata": {},
   "outputs": [],
   "source": [
    "results = pd.DataFrame(columns = ['model','lr','weight_decay','prauc','rocauc','epoch'])\n",
    "for model in ['LF_BiLSTM_mi','EFE_BiLSTM_mi','EFI_BiLSTM_mi','LF_pool_BiLSTM_mi','SDPRL_BiLSTM_mi',\n",
    "             'LF_Transformer_mi','EFE_Transformer_mi','EFI_Transformer_mi','LF_pool_Transformer_mi','SDPRL_Transformer_mi']:\n",
    "    with open('results_'+model+'.json') as f:\n",
    "        \n",
    "        print('\\nFor model %s'%model)\n",
    "        result_json = json.load(f)\n",
    "        df = pd.DataFrame(data = result_json).T\n",
    "        print(df)\n",
    "        df['model'] = model\n",
    "        results = results.append(df[df.prauc == df.prauc.max()])\n",
    "\n"
   ]
  },
  {
   "cell_type": "code",
   "execution_count": null,
   "metadata": {},
   "outputs": [],
   "source": [
    "results.reset_index(drop = True,inplace = True)\n",
    "results.set_index('model',inplace = True)\n",
    "results.to_pickle('hyperparameter_tuning_mi.pkl')"
   ]
  },
  {
   "cell_type": "code",
   "execution_count": null,
   "metadata": {},
   "outputs": [],
   "source": []
  }
 ],
 "metadata": {
  "kernelspec": {
   "display_name": "Python 3",
   "language": "python",
   "name": "python3"
  },
  "language_info": {
   "codemirror_mode": {
    "name": "ipython",
    "version": 3
   },
   "file_extension": ".py",
   "mimetype": "text/x-python",
   "name": "python",
   "nbconvert_exporter": "python",
   "pygments_lexer": "ipython3",
   "version": "3.7.6"
  }
 },
 "nbformat": 4,
 "nbformat_minor": 5
}
